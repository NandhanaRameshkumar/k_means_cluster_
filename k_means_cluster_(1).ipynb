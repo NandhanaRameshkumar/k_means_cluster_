{
  "cells": [
    {
      "cell_type": "markdown",
      "metadata": {
        "id": "view-in-github",
        "colab_type": "text"
      },
      "source": [
        "<a href=\"https://colab.research.google.com/github/NandhanaRameshkumar/k_means_cluster_/blob/main/k_means_cluster_(1).ipynb\" target=\"_parent\"><img src=\"https://colab.research.google.com/assets/colab-badge.svg\" alt=\"Open In Colab\"/></a>"
      ]
    },
    {
      "cell_type": "code",
      "execution_count": null,
      "id": "95f5b1f4",
      "metadata": {
        "id": "95f5b1f4"
      },
      "outputs": [],
      "source": [
        "import numpy as np\n",
        "import pandas as pd\n",
        "import matplotlib.pyplot as plt\n",
        "from sklearn.cluster import KMeans"
      ]
    },
    {
      "cell_type": "code",
      "execution_count": null,
      "id": "32bcf9ce",
      "metadata": {
        "scrolled": true,
        "id": "32bcf9ce",
        "outputId": "c6b35851-1c98-4b87-eb64-bd32deea7a79"
      },
      "outputs": [
        {
          "data": {
            "text/html": [
              "<div>\n",
              "<style scoped>\n",
              "    .dataframe tbody tr th:only-of-type {\n",
              "        vertical-align: middle;\n",
              "    }\n",
              "\n",
              "    .dataframe tbody tr th {\n",
              "        vertical-align: top;\n",
              "    }\n",
              "\n",
              "    .dataframe thead th {\n",
              "        text-align: right;\n",
              "    }\n",
              "</style>\n",
              "<table border=\"1\" class=\"dataframe\">\n",
              "  <thead>\n",
              "    <tr style=\"text-align: right;\">\n",
              "      <th></th>\n",
              "      <th>Country</th>\n",
              "      <th>Latitude</th>\n",
              "      <th>Longitude</th>\n",
              "      <th>Language</th>\n",
              "    </tr>\n",
              "  </thead>\n",
              "  <tbody>\n",
              "    <tr>\n",
              "      <th>0</th>\n",
              "      <td>USA</td>\n",
              "      <td>44.97</td>\n",
              "      <td>-103.77</td>\n",
              "      <td>English</td>\n",
              "    </tr>\n",
              "    <tr>\n",
              "      <th>1</th>\n",
              "      <td>Canada</td>\n",
              "      <td>62.40</td>\n",
              "      <td>-96.80</td>\n",
              "      <td>English</td>\n",
              "    </tr>\n",
              "    <tr>\n",
              "      <th>2</th>\n",
              "      <td>France</td>\n",
              "      <td>46.75</td>\n",
              "      <td>2.40</td>\n",
              "      <td>French</td>\n",
              "    </tr>\n",
              "    <tr>\n",
              "      <th>3</th>\n",
              "      <td>UK</td>\n",
              "      <td>54.01</td>\n",
              "      <td>-2.53</td>\n",
              "      <td>English</td>\n",
              "    </tr>\n",
              "    <tr>\n",
              "      <th>4</th>\n",
              "      <td>Germany</td>\n",
              "      <td>51.15</td>\n",
              "      <td>10.40</td>\n",
              "      <td>German</td>\n",
              "    </tr>\n",
              "    <tr>\n",
              "      <th>5</th>\n",
              "      <td>Australia</td>\n",
              "      <td>-25.45</td>\n",
              "      <td>133.11</td>\n",
              "      <td>English</td>\n",
              "    </tr>\n",
              "  </tbody>\n",
              "</table>\n",
              "</div>"
            ],
            "text/plain": [
              "     Country  Latitude  Longitude Language\n",
              "0        USA     44.97    -103.77  English\n",
              "1     Canada     62.40     -96.80  English\n",
              "2     France     46.75       2.40   French\n",
              "3         UK     54.01      -2.53  English\n",
              "4    Germany     51.15      10.40   German\n",
              "5  Australia    -25.45     133.11  English"
            ]
          },
          "execution_count": 2,
          "metadata": {},
          "output_type": "execute_result"
        }
      ],
      "source": [
        "data = pd.read_csv(\"D:\\\\Jeyashri\\\\IBM\\\\Datasets\\\\Country clusters.csv\")\n",
        "data"
      ]
    },
    {
      "cell_type": "code",
      "execution_count": null,
      "id": "bab378b4",
      "metadata": {
        "id": "bab378b4",
        "outputId": "6065b6ab-d3aa-4c46-9d81-2c52aa27cc51"
      },
      "outputs": [
        {
          "data": {
            "image/png": "[encoded data removed]",
            "text/plain": [
              "<Figure size 432x288 with 1 Axes>"
            ]
          },
          "metadata": {
            "needs_background": "light"
          },
          "output_type": "display_data"
        }
      ],
      "source": [
        "plt.scatter(data['Longitude'],data['Latitude'],color='orange')\n",
        "plt.xlim(-180,180)\n",
        "plt.ylim(-90,90)\n",
        "plt.xlabel(\"Longitude\")\n",
        "plt.ylabel(\"Latitude\")\n",
        "plt.show()\n"
      ]
    },
    {
      "cell_type": "code",
      "execution_count": null,
      "id": "268b883c",
      "metadata": {
        "id": "268b883c",
        "outputId": "26ceb9d7-3edd-40f3-9844-4cf14066bdbe"
      },
      "outputs": [
        {
          "data": {
            "text/html": [
              "<div>\n",
              "<style scoped>\n",
              "    .dataframe tbody tr th:only-of-type {\n",
              "        vertical-align: middle;\n",
              "    }\n",
              "\n",
              "    .dataframe tbody tr th {\n",
              "        vertical-align: top;\n",
              "    }\n",
              "\n",
              "    .dataframe thead th {\n",
              "        text-align: right;\n",
              "    }\n",
              "</style>\n",
              "<table border=\"1\" class=\"dataframe\">\n",
              "  <thead>\n",
              "    <tr style=\"text-align: right;\">\n",
              "      <th></th>\n",
              "      <th>Latitude</th>\n",
              "      <th>Longitude</th>\n",
              "    </tr>\n",
              "  </thead>\n",
              "  <tbody>\n",
              "    <tr>\n",
              "      <th>0</th>\n",
              "      <td>44.97</td>\n",
              "      <td>-103.77</td>\n",
              "    </tr>\n",
              "    <tr>\n",
              "      <th>1</th>\n",
              "      <td>62.40</td>\n",
              "      <td>-96.80</td>\n",
              "    </tr>\n",
              "    <tr>\n",
              "      <th>2</th>\n",
              "      <td>46.75</td>\n",
              "      <td>2.40</td>\n",
              "    </tr>\n",
              "    <tr>\n",
              "      <th>3</th>\n",
              "      <td>54.01</td>\n",
              "      <td>-2.53</td>\n",
              "    </tr>\n",
              "    <tr>\n",
              "      <th>4</th>\n",
              "      <td>51.15</td>\n",
              "      <td>10.40</td>\n",
              "    </tr>\n",
              "    <tr>\n",
              "      <th>5</th>\n",
              "      <td>-25.45</td>\n",
              "      <td>133.11</td>\n",
              "    </tr>\n",
              "  </tbody>\n",
              "</table>\n",
              "</div>"
            ],
            "text/plain": [
              "   Latitude  Longitude\n",
              "0     44.97    -103.77\n",
              "1     62.40     -96.80\n",
              "2     46.75       2.40\n",
              "3     54.01      -2.53\n",
              "4     51.15      10.40\n",
              "5    -25.45     133.11"
            ]
          },
          "execution_count": 4,
          "metadata": {},
          "output_type": "execute_result"
        }
      ],
      "source": [
        "x = data.iloc[:,1:3] # 1t for rows and second for columns\n",
        "x"
      ]
    },
    {
      "cell_type": "code",
      "execution_count": null,
      "id": "b343e1cc",
      "metadata": {
        "id": "b343e1cc",
        "outputId": "05375591-060b-42ea-e212-eb7ebe6a283b"
      },
      "outputs": [
        {
          "data": {
            "text/plain": [
              "KMeans(n_clusters=3)"
            ]
          },
          "execution_count": 10,
          "metadata": {},
          "output_type": "execute_result"
        }
      ],
      "source": [
        "kmeans = KMeans(3)\n",
        "kmeans.fit(x)"
      ]
    },
    {
      "cell_type": "code",
      "execution_count": null,
      "id": "964016f5",
      "metadata": {
        "id": "964016f5",
        "outputId": "fbdbe6dd-07d6-497e-988d-3fe8ed56c184"
      },
      "outputs": [
        {
          "data": {
            "text/plain": [
              "array([2, 2, 0, 0, 0, 1])"
            ]
          },
          "execution_count": 11,
          "metadata": {},
          "output_type": "execute_result"
        }
      ],
      "source": [
        "identified_clusters = kmeans.fit_predict(x)\n",
        "identified_clusters"
      ]
    },
    {
      "cell_type": "code",
      "execution_count": null,
      "id": "0b039cf4",
      "metadata": {
        "id": "0b039cf4"
      },
      "outputs": [],
      "source": [
        "data_with_clusters = data.copy()"
      ]
    },
    {
      "cell_type": "code",
      "execution_count": null,
      "id": "240d3ab3",
      "metadata": {
        "id": "240d3ab3",
        "outputId": "c6860a0a-fdac-4134-ef33-18d31a07ae94"
      },
      "outputs": [
        {
          "data": {
            "text/html": [
              "<div>\n",
              "<style scoped>\n",
              "    .dataframe tbody tr th:only-of-type {\n",
              "        vertical-align: middle;\n",
              "    }\n",
              "\n",
              "    .dataframe tbody tr th {\n",
              "        vertical-align: top;\n",
              "    }\n",
              "\n",
              "    .dataframe thead th {\n",
              "        text-align: right;\n",
              "    }\n",
              "</style>\n",
              "<table border=\"1\" class=\"dataframe\">\n",
              "  <thead>\n",
              "    <tr style=\"text-align: right;\">\n",
              "      <th></th>\n",
              "      <th>Country</th>\n",
              "      <th>Latitude</th>\n",
              "      <th>Longitude</th>\n",
              "      <th>Language</th>\n",
              "    </tr>\n",
              "  </thead>\n",
              "  <tbody>\n",
              "    <tr>\n",
              "      <th>0</th>\n",
              "      <td>USA</td>\n",
              "      <td>44.97</td>\n",
              "      <td>-103.77</td>\n",
              "      <td>English</td>\n",
              "    </tr>\n",
              "    <tr>\n",
              "      <th>1</th>\n",
              "      <td>Canada</td>\n",
              "      <td>62.40</td>\n",
              "      <td>-96.80</td>\n",
              "      <td>English</td>\n",
              "    </tr>\n",
              "    <tr>\n",
              "      <th>2</th>\n",
              "      <td>France</td>\n",
              "      <td>46.75</td>\n",
              "      <td>2.40</td>\n",
              "      <td>French</td>\n",
              "    </tr>\n",
              "    <tr>\n",
              "      <th>3</th>\n",
              "      <td>UK</td>\n",
              "      <td>54.01</td>\n",
              "      <td>-2.53</td>\n",
              "      <td>English</td>\n",
              "    </tr>\n",
              "    <tr>\n",
              "      <th>4</th>\n",
              "      <td>Germany</td>\n",
              "      <td>51.15</td>\n",
              "      <td>10.40</td>\n",
              "      <td>German</td>\n",
              "    </tr>\n",
              "    <tr>\n",
              "      <th>5</th>\n",
              "      <td>Australia</td>\n",
              "      <td>-25.45</td>\n",
              "      <td>133.11</td>\n",
              "      <td>English</td>\n",
              "    </tr>\n",
              "  </tbody>\n",
              "</table>\n",
              "</div>"
            ],
            "text/plain": [
              "     Country  Latitude  Longitude Language\n",
              "0        USA     44.97    -103.77  English\n",
              "1     Canada     62.40     -96.80  English\n",
              "2     France     46.75       2.40   French\n",
              "3         UK     54.01      -2.53  English\n",
              "4    Germany     51.15      10.40   German\n",
              "5  Australia    -25.45     133.11  English"
            ]
          },
          "execution_count": 13,
          "metadata": {},
          "output_type": "execute_result"
        }
      ],
      "source": [
        "data_with_clusters"
      ]
    },
    {
      "cell_type": "code",
      "execution_count": null,
      "id": "28e511f5",
      "metadata": {
        "id": "28e511f5",
        "outputId": "17ffd997-9059-4432-ebf7-c8d2a0099fce"
      },
      "outputs": [
        {
          "data": {
            "text/plain": [
              "<matplotlib.collections.PathCollection at 0x1903b7be760>"
            ]
          },
          "execution_count": 14,
          "metadata": {},
          "output_type": "execute_result"
        },
        {
          "data": {
            "image/png": "[encoded data removed]",
            "text/plain": [
              "<Figure size 432x288 with 1 Axes>"
            ]
          },
          "metadata": {
            "needs_background": "light"
          },
          "output_type": "display_data"
        }
      ],
      "source": [
        "data_with_clusters['C'] = identified_clusters\n",
        "plt.scatter(data_with_clusters['Longitude'],data_with_clusters['Latitude'],c=data_with_clusters['C'],cmap='rainbow')"
      ]
    },
    {
      "cell_type": "code",
      "execution_count": null,
      "id": "1e41fed6",
      "metadata": {
        "id": "1e41fed6",
        "outputId": "7d709bb7-5d77-40f7-f227-4f4f45ab1614"
      },
      "outputs": [
        {
          "data": {
            "text/html": [
              "<div>\n",
              "<style scoped>\n",
              "    .dataframe tbody tr th:only-of-type {\n",
              "        vertical-align: middle;\n",
              "    }\n",
              "\n",
              "    .dataframe tbody tr th {\n",
              "        vertical-align: top;\n",
              "    }\n",
              "\n",
              "    .dataframe thead th {\n",
              "        text-align: right;\n",
              "    }\n",
              "</style>\n",
              "<table border=\"1\" class=\"dataframe\">\n",
              "  <thead>\n",
              "    <tr style=\"text-align: right;\">\n",
              "      <th></th>\n",
              "      <th>Country</th>\n",
              "      <th>Latitude</th>\n",
              "      <th>Longitude</th>\n",
              "      <th>Language</th>\n",
              "      <th>C</th>\n",
              "    </tr>\n",
              "  </thead>\n",
              "  <tbody>\n",
              "    <tr>\n",
              "      <th>0</th>\n",
              "      <td>USA</td>\n",
              "      <td>44.97</td>\n",
              "      <td>-103.77</td>\n",
              "      <td>English</td>\n",
              "      <td>0</td>\n",
              "    </tr>\n",
              "    <tr>\n",
              "      <th>1</th>\n",
              "      <td>Canada</td>\n",
              "      <td>62.40</td>\n",
              "      <td>-96.80</td>\n",
              "      <td>English</td>\n",
              "      <td>0</td>\n",
              "    </tr>\n",
              "    <tr>\n",
              "      <th>2</th>\n",
              "      <td>France</td>\n",
              "      <td>46.75</td>\n",
              "      <td>2.40</td>\n",
              "      <td>French</td>\n",
              "      <td>1</td>\n",
              "    </tr>\n",
              "    <tr>\n",
              "      <th>3</th>\n",
              "      <td>UK</td>\n",
              "      <td>54.01</td>\n",
              "      <td>-2.53</td>\n",
              "      <td>English</td>\n",
              "      <td>1</td>\n",
              "    </tr>\n",
              "    <tr>\n",
              "      <th>4</th>\n",
              "      <td>Germany</td>\n",
              "      <td>51.15</td>\n",
              "      <td>10.40</td>\n",
              "      <td>German</td>\n",
              "      <td>1</td>\n",
              "    </tr>\n",
              "    <tr>\n",
              "      <th>5</th>\n",
              "      <td>Australia</td>\n",
              "      <td>-25.45</td>\n",
              "      <td>133.11</td>\n",
              "      <td>English</td>\n",
              "      <td>2</td>\n",
              "    </tr>\n",
              "  </tbody>\n",
              "</table>\n",
              "</div>"
            ],
            "text/plain": [
              "     Country  Latitude  Longitude Language  C\n",
              "0        USA     44.97    -103.77  English  0\n",
              "1     Canada     62.40     -96.80  English  0\n",
              "2     France     46.75       2.40   French  1\n",
              "3         UK     54.01      -2.53  English  1\n",
              "4    Germany     51.15      10.40   German  1\n",
              "5  Australia    -25.45     133.11  English  2"
            ]
          },
          "execution_count": 36,
          "metadata": {},
          "output_type": "execute_result"
        }
      ],
      "source": [
        "data_with_clusters"
      ]
    },
    {
      "cell_type": "code",
      "execution_count": null,
      "id": "6241c343",
      "metadata": {
        "id": "6241c343",
        "outputId": "8cfea5b4-5b3c-4d45-a096-401c998ba16d"
      },
      "outputs": [
        {
          "name": "stderr",
          "output_type": "stream",
          "text": [
            "C:\\Users\\Lenovo\\anaconda3\\lib\\site-packages\\sklearn\\cluster\\_kmeans.py:1332: UserWarning: KMeans is known to have a memory leak on Windows with MKL, when there are less chunks than available threads. You can avoid it by setting the environment variable OMP_NUM_THREADS=1.\n",
            "  warnings.warn(\n",
            "C:\\Users\\Lenovo\\anaconda3\\lib\\site-packages\\sklearn\\cluster\\_kmeans.py:1332: UserWarning: KMeans is known to have a memory leak on Windows with MKL, when there are less chunks than available threads. You can avoid it by setting the environment variable OMP_NUM_THREADS=1.\n",
            "  warnings.warn(\n",
            "C:\\Users\\Lenovo\\anaconda3\\lib\\site-packages\\sklearn\\cluster\\_kmeans.py:1332: UserWarning: KMeans is known to have a memory leak on Windows with MKL, when there are less chunks than available threads. You can avoid it by setting the environment variable OMP_NUM_THREADS=1.\n",
            "  warnings.warn(\n"
          ]
        },
        {
          "data": {
            "image/png": "[encoded data removed]",
            "text/plain": [
              "<Figure size 432x288 with 1 Axes>"
            ]
          },
          "metadata": {
            "needs_background": "light"
          },
          "output_type": "display_data"
        }
      ],
      "source": [
        "individual_clustering_score=[]\n",
        "for i in range(1,4):\n",
        "    kmeans=KMeans(n_clusters=i,init='random',random_state=42)\n",
        "    kmeans.fit(x)\n",
        "    individual_clustering_score.append(kmeans.inertia_)\n",
        "plt.plot(range(1,4),individual_clustering_score)\n",
        "plt.title(\"ELBOW\")\n",
        "plt.show()"
      ]
    }
  ],
  "metadata": {
    "kernelspec": {
      "display_name": "Python 3 (ipykernel)",
      "language": "python",
      "name": "python3"
    },
    "language_info": {
      "codemirror_mode": {
        "name": "ipython",
        "version": 3
      },
      "file_extension": ".py",
      "mimetype": "text/x-python",
      "name": "python",
      "nbconvert_exporter": "python",
      "pygments_lexer": "ipython3",
      "version": "3.9.12"
    },
    "colab": {
      "provenance": [],
      "include_colab_link": true
    }
  },
  "nbformat": 4,
  "nbformat_minor": 5
}